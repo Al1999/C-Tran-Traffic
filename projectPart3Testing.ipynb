{
 "cells": [
  {
   "cell_type": "code",
   "execution_count": 15,
   "id": "9d135239",
   "metadata": {},
   "outputs": [],
   "source": [
    "import pandas as pd\n",
    "\n",
    "from urllib.request import urlopen\n",
    "from bs4 import BeautifulSoup\n",
    "import re\n",
    "from datetime import datetime"
   ]
  },
  {
   "cell_type": "code",
   "execution_count": 21,
   "id": "0d607b6a",
   "metadata": {},
   "outputs": [],
   "source": [
    "url = \"http://www.psudataeng.com:8000/getStopEvents/\"\n",
    "html = urlopen(url)\n",
    "soup = BeautifulSoup(html, 'lxml')"
   ]
  },
  {
   "cell_type": "code",
   "execution_count": 22,
   "id": "06f68de6",
   "metadata": {
    "scrolled": true
   },
   "outputs": [
    {
     "name": "stdout",
     "output_type": "stream",
     "text": [
      "14-Oct-20\n"
     ]
    }
   ],
   "source": [
    "head = soup.find('h1')\n",
    "\n",
    "#extract the date\n",
    "x = re.search(\"\\d{4}-\\d{1,2}-\\d{1,2}\", str(head))\n",
    "\n",
    "#turn it into a datetime object\n",
    "dt = datetime.strptime(x.group(), '%Y-%m-%d')\n",
    "\n",
    "finalDate = dt.strftime(\"%d-%b-%y\")\n",
    "print(finalDate)"
   ]
  },
  {
   "cell_type": "code",
   "execution_count": 24,
   "id": "5a942599",
   "metadata": {},
   "outputs": [],
   "source": [
    "#remove all br tags\n",
    "brTags = soup.findAll('br')\n",
    "for tag in brTags:\n",
    "    tag.decompose()"
   ]
  },
  {
   "cell_type": "code",
   "execution_count": 29,
   "id": "507c1468",
   "metadata": {},
   "outputs": [],
   "source": [
    "tripTitles = soup.findAll('h3')\n",
    "tripIds = []\n",
    "#get all the tripIds chronologically\n",
    "for title in tripTitles:\n",
    "    title = str(title).replace(\"h3\", \"h\")\n",
    "    tripId = re.search(\"\\d+\", str(title))\n",
    "    tripIds.append(tripId.group())\n",
    "    "
   ]
  },
  {
   "cell_type": "code",
   "execution_count": null,
   "id": "ca44f58a",
   "metadata": {},
   "outputs": [],
   "source": [
    "tables = soup.findAll('table')\n",
    "\n",
    "for table in tables:\n",
    "    colLabels = table.find_all('th')\n",
    "    #print(colLabels)\n",
    "\n",
    "headings = [th.get_text().strip() for th in table.find(\"tr\").find_all(\"th\")]\n",
    "\n",
    "\n",
    "#print(headings)\n",
    "\n",
    "datasets = []\n",
    "for table in tables:\n",
    "    for row in table.findAll(\"tr\")[1:]:\n",
    "        dataset = dict(zip(headings, (td.get_text() for td in row.find_all(\"td\"))))\n",
    "        datasets.append(dataset)\n",
    "\n",
    "#print(datasets)"
   ]
  },
  {
   "cell_type": "code",
   "execution_count": null,
   "id": "194fc120",
   "metadata": {},
   "outputs": [],
   "source": []
  }
 ],
 "metadata": {
  "kernelspec": {
   "display_name": "Python 3 (ipykernel)",
   "language": "python",
   "name": "python3"
  },
  "language_info": {
   "codemirror_mode": {
    "name": "ipython",
    "version": 3
   },
   "file_extension": ".py",
   "mimetype": "text/x-python",
   "name": "python",
   "nbconvert_exporter": "python",
   "pygments_lexer": "ipython3",
   "version": "3.9.7"
  }
 },
 "nbformat": 4,
 "nbformat_minor": 5
}
